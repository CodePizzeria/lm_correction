{
 "cells": [
  {
   "cell_type": "code",
   "execution_count": 1,
   "metadata": {
    "colab": {
     "base_uri": "https://localhost:8080/"
    },
    "executionInfo": {
     "elapsed": 26715,
     "status": "ok",
     "timestamp": 1686977191113,
     "user": {
      "displayName": "DEREK XIAO",
      "userId": "13800100255470786397"
     },
     "user_tz": 420
    },
    "id": "CPSsg2S-Z7w-",
    "outputId": "5fdbfe65-3cfe-4942-b10a-e1c7bfcc0488"
   },
   "outputs": [
    {
     "name": "stdout",
     "output_type": "stream",
     "text": [
      "True\n"
     ]
    }
   ],
   "source": [
    "import numpy as np\n",
    "import seaborn as sns\n",
    "import torch\n",
    "from torch import nn\n",
    "import torch.nn.functional as F\n",
    "import train_utils\n",
    "from models import CharRNN\n",
    "import pickle\n",
    "import Levenshtein # for calculating distance between strings.\n",
    "from time import time\n",
    "%load_ext autoreload\n",
    "%autoreload 2\n",
    "\n",
    "print(torch.cuda.is_available())"
   ]
  },
  {
   "cell_type": "markdown",
   "metadata": {
    "id": "WpmgyRCdDE8H"
   },
   "source": [
    "# Set up code"
   ]
  },
  {
   "cell_type": "code",
   "execution_count": 2,
   "metadata": {
    "colab": {
     "base_uri": "https://localhost:8080/"
    },
    "executionInfo": {
     "elapsed": 1872,
     "status": "ok",
     "timestamp": 1686977258557,
     "user": {
      "displayName": "DEREK XIAO",
      "userId": "13800100255470786397"
     },
     "user_tz": 420
    },
    "id": "q4-RGh-ObXdW",
    "outputId": "535e8b79-af78-4b23-e6f3-ae3ee72d2b69"
   },
   "outputs": [
    {
     "name": "stdout",
     "output_type": "stream",
     "text": [
      "first 100 chars are:  the fires took over nine months to fully extinguish and the cost of repairs to oil infrastructure ex\n",
      "length of dataset is:  10000\n",
      "x shape is  (10, 50) \n",
      " [[26 13 16  4 22 14  3 17 11 10]\n",
      " [14 26  4 11  1 24 20  3  7 13]]\n",
      "\n",
      "y is just x shifted by 1\n",
      " [[13 16  4 22 14  3 17 11 10  4]\n",
      " [26  4 11  1 24 20  3  7 13 10]]\n"
     ]
    }
   ],
   "source": [
    "# should this be val? \n",
    "# read in the extracted text file\n",
    "with open('datasets/text8_val') as f:\n",
    "    text_val = f.read()\n",
    "\n",
    "# print out the first 100 characters\n",
    "chars = tuple(set(text_val))\n",
    "\n",
    "int2char = dict(enumerate(chars))\n",
    "\n",
    "char2int = {ch: ii for ii, ch in int2char.items()}\n",
    "\n",
    "print('first 100 chars are: ', text_val[:100])\n",
    "encoded = np.array([char2int[ch] for ch in text_val[:10000]])\n",
    "print('length of dataset is: ', len(encoded))\n",
    "batches = train_utils.get_batches(encoded, 10, 50)\n",
    "x, y = next(batches)\n",
    "\n",
    "print('x shape is ', x.shape, '\\n', x[:2, :10])\n",
    "print('\\ny is just x shifted by 1\\n', y[:2, :10])\n"
   ]
  },
  {
   "cell_type": "code",
   "execution_count": 3,
   "metadata": {
    "executionInfo": {
     "elapsed": 1289,
     "status": "ok",
     "timestamp": 1686977259844,
     "user": {
      "displayName": "DEREK XIAO",
      "userId": "13800100255470786397"
     },
     "user_tz": 420
    },
    "id": "zGhlDT-27LYK"
   },
   "outputs": [],
   "source": [
    "import seaborn as sns\n",
    "import matplotlib.pyplot as plt\n",
    "import matplotlib as mpl\n",
    "\n",
    "def keyboard_heatmap(p, char_tuple):\n",
    "    ''' takes a softmax over characters, and plots heatmap over the keyboard\n",
    "      This will be useful for\n",
    "      - debugging\n",
    "      - writing the final report  '''\n",
    "    keyboard = {0:'qwertyuiop',1:'asdfghjkl',2:'zxcvbnm',3:' '}\n",
    "\n",
    "    int2char = dict(enumerate(char_tuple))\n",
    "    char2int = {ch: ii for ii, ch in int2char.items()}\n",
    "\n",
    "    keyboard_heatmap = np.zeros((4,10))\n",
    "    # iterate through the softmax vector and fill in the heatmap values\n",
    "    # can definitely be rewritten to run faster, this first solution that came to mind is stupid slow, but speeds not important\n",
    "    for i in range(np.shape(p)[0]):\n",
    "        char_temp = char_tuple[i]\n",
    "        temp_key_column = -1\n",
    "        # find corresponding location of key on keyboard\n",
    "        for row in range(4):\n",
    "            temp_key_column = keyboard[row].rfind(char_temp)\n",
    "            if temp_key_column != -1:\n",
    "                temp_key_row = row\n",
    "                break\n",
    "        # fill location of key in heatmap with the softmax value\n",
    "        keyboard_heatmap[temp_key_row,temp_key_column] = p[i]\n",
    "        # plot\n",
    "    sns.heatmap(keyboard_heatmap, square = True, linewidths=1, linecolor='lightsteelblue', cmap=mpl.colormaps['Reds'])\n",
    "    for row in keyboard:\n",
    "        for j,letter in enumerate(keyboard[row]):\n",
    "            plt.text(0.5+j,0.5+row,'\\''+letter+'\\'',\n",
    "                  horizontalalignment='center',\n",
    "                  verticalalignment='center', color = 'green')"
   ]
  },
  {
   "cell_type": "markdown",
   "metadata": {
    "id": "Tsx8DwSGUV4j"
   },
   "source": [
    "# language generation example"
   ]
  },
  {
   "cell_type": "code",
   "execution_count": 4,
   "metadata": {
    "executionInfo": {
     "elapsed": 1251,
     "status": "ok",
     "timestamp": 1686968606910,
     "user": {
      "displayName": "DEREK XIAO",
      "userId": "13800100255470786397"
     },
     "user_tz": 420
    },
    "id": "RtOVO4nebFjV"
   },
   "outputs": [],
   "source": [
    "# if you need a text corpus to evaluate the language generation eprformance on, use this.\n",
    "with open('datasets/text8_test') as f:\n",
    "    text_test = f.read()"
   ]
  },
  {
   "cell_type": "code",
   "execution_count": 5,
   "metadata": {
    "colab": {
     "base_uri": "https://localhost:8080/"
    },
    "executionInfo": {
     "elapsed": 3812,
     "status": "ok",
     "timestamp": 1686968610720,
     "user": {
      "displayName": "DEREK XIAO",
      "userId": "13800100255470786397"
     },
     "user_tz": 420
    },
    "id": "PtVB7L78qgNJ",
    "outputId": "a0fbe394-a788-446f-90af-07656b33f6a6"
   },
   "outputs": [
    {
     "name": "stdout",
     "output_type": "stream",
     "text": [
      "a cattle pennsylvakin mare club is camerilles the colpe mosn amatous it was accused of triban differently control god s preservation of authorshal event has been still death pollinates do itonameloacour\n"
     ]
    }
   ],
   "source": [
    "# LSTM argmax language generation example\n",
    "file_name = 'saved_models/charRNN_scratch.pkl'\n",
    "lm_lstm = torch.load(file_name)\n",
    "\n",
    "\n",
    "thing = 'a'\n",
    "next_char, h, _= lm_lstm.predict('a')\n",
    "thing = thing + next_char\n",
    "for i in range(200):\n",
    "    next_char, h, _= lm_lstm.predict(thing[-1], h)\n",
    "    thing = thing + next_char\n",
    "print(thing)"
   ]
  },
  {
   "cell_type": "markdown",
   "metadata": {
    "id": "4eGFb14qDKae"
   },
   "source": [
    "# Demonstrations of how functions work"
   ]
  },
  {
   "cell_type": "code",
   "execution_count": 6,
   "metadata": {
    "colab": {
     "base_uri": "https://localhost:8080/",
     "height": 1000
    },
    "executionInfo": {
     "elapsed": 3330,
     "status": "ok",
     "timestamp": 1686968711201,
     "user": {
      "displayName": "DEREK XIAO",
      "userId": "13800100255470786397"
     },
     "user_tz": 420
    },
    "id": "1RGVWwsFl4xd",
    "outputId": "80087c6c-f186-4698-d473-33e1676e5e8c"
   },
   "outputs": [
    {
     "name": "stdout",
     "output_type": "stream",
     "text": [
      "true character is ' h ', but the simulated EMG decoder softmax is\n",
      "[0.21 0.01 0.   0.17 0.   0.   0.   0.18 0.   0.   0.   0.   0.05 0.\n",
      " 0.   0.   0.2  0.   0.   0.   0.08 0.   0.   0.09 0.   0.   0.  ]\n"
     ]
    },
    {
     "data": {
      "image/png": "[encoded data removed]",
      "text/plain": [
       "<Figure size 640x480 with 2 Axes>"
      ]
     },
     "metadata": {},
     "output_type": "display_data"
    },
    {
     "name": "stdout",
     "output_type": "stream",
     "text": [
      "true character is ' h ', but the simulated EMG decoder softmax is\n",
      "[0.29 0.   0.   0.31 0.   0.   0.   0.   0.14 0.   0.   0.   0.   0.\n",
      " 0.   0.   0.   0.03 0.   0.   0.18 0.   0.   0.06 0.   0.   0.  ]\n"
     ]
    },
    {
     "data": {
      "image/png": "[encoded data removed]",
      "text/plain": [
       "<Figure size 640x480 with 2 Axes>"
      ]
     },
     "metadata": {},
     "output_type": "display_data"
    }
   ],
   "source": [
    "# load a model that I trained in another notebook on the text8 dataset\n",
    "file_name = 'saved_models/charRNN_scratch.pkl'\n",
    "lm_lstm = torch.load(file_name)\n",
    "\n",
    "char = 'h'\n",
    "# convert the character to the simulated output of the EMG decoder. I just move\n",
    "#   some probability to the adjacent keys on the keyboard. You can see this in the\n",
    "#   heatmap below.\n",
    "for i in range(2):\n",
    "    # choose between skilled and unskilled typing style\n",
    "    p = train_utils.letter_to_emg_sim(char, lm_lstm.chars,typing_style = 'skilled')\n",
    "    print('true character is \\'',char,'\\', but the simulated EMG decoder softmax is')\n",
    "    print(np.round(p,2))\n",
    "    keyboard_heatmap(p, lm_lstm.chars)\n",
    "    plt.show()"
   ]
  },
  {
   "cell_type": "markdown",
   "metadata": {
    "id": "zBAtU2srUT6f"
   },
   "source": [
    "Below, I show the ground truth sentence. Followed by the output if letters are randomly sampled from the simulated EMG softmax. Followed by argmax decoding on the multiplied softmax of the character level language model RNN and the simulated EMG softmax (p_lm*p_emg). You can see that the charRNN brings the accuracy from 50% up to around 85%."
   ]
  },
  {
   "cell_type": "markdown",
   "metadata": {
    "id": "MG_3aCW4xQL4"
   },
   "source": [
    "# concrete examples and accuracies on an example sentence"
   ]
  },
  {
   "cell_type": "code",
   "execution_count": 7,
   "metadata": {
    "colab": {
     "base_uri": "https://localhost:8080/"
    },
    "executionInfo": {
     "elapsed": 465,
     "status": "ok",
     "timestamp": 1686968711663,
     "user": {
      "displayName": "DEREK XIAO",
      "userId": "13800100255470786397"
     },
     "user_tz": 420
    },
    "id": "CVHyz_NVGcEk",
    "outputId": "c1f857b9-293d-4fbf-87c4-06919621b4a0"
   },
   "outputs": [
    {
     "name": "stdout",
     "output_type": "stream",
     "text": [
      "> ground truth sentence\n",
      "when she shouted the gulls hidden by the dune buckshot the low clouds \n",
      "\n",
      "> argmax of simulated EMG decoding\n",
      "aben suf ctohtfd hbemnullq midden hy tbs dugs fucmctoh the iowbcpohxs\n",
      "0.5942028985507246 \n",
      "\n",
      "> generated by argmax from EMG probability multiplied by RNN-LM\n",
      "whermans chomber hus thole hissen by husbakke themshot the piecciomes \n",
      "\n",
      "0.5942028985507246  simulated EMG accuracy\n",
      "0.5652173913043479  EMG + LM accuracy\n",
      "\n",
      "> notably there is not much improvement without beam search/probability smoothing\n"
     ]
    }
   ],
   "source": [
    "# import your model\n",
    "# run function toe valuate with simulate EMG\n",
    "def EMG_LM_decoder(char_tuple, p_emg, p_lm = None):\n",
    "    if p_lm is None:\n",
    "        return char_tuple[np.argmax(p_emg)]\n",
    "    p_combined = p_lm*p_emg\n",
    "    p_combined = p_combined/p_combined.sum()\n",
    "    letter_index = np.argmax(p_combined)\n",
    "    return char_tuple[letter_index]\n",
    "\n",
    "gt_sentence = 'when she shouted the gulls hidden by the dune buckshot the low clouds'\n",
    "\n",
    "# argmax from simulated EMG decoder output\n",
    "emg_sentence = ''\n",
    "\n",
    "p_emg = train_utils.letter_to_emg_sim(gt_sentence[0], lm_lstm.chars)\n",
    "first_char = EMG_LM_decoder(lm_lstm.chars, p_emg)\n",
    "\n",
    "emg_sentence = emg_sentence + first_char\n",
    "for i in range(1, len(gt_sentence)):\n",
    "    # create simulated emg decoder output from ground truth, multiply with lm to decode\n",
    "    p_emg = train_utils.letter_to_emg_sim(gt_sentence[i], lm_lstm.chars)\n",
    "    next_char = EMG_LM_decoder(lm_lstm.chars, p_emg)\n",
    "    emg_sentence = emg_sentence + next_char\n",
    "\n",
    "# decode with lm\n",
    "decoded_sentence = ''\n",
    "\n",
    "p_emg = train_utils.letter_to_emg_sim(gt_sentence[0], lm_lstm.chars)\n",
    "first_char = EMG_LM_decoder(lm_lstm.chars, p_emg)\n",
    "\n",
    "decoded_sentence = decoded_sentence + first_char\n",
    "_, h, p_lm = lm_lstm.predict(first_char)\n",
    "for i in range(1, len(gt_sentence)):\n",
    "    # create simulated emg decoder output from ground truth, multiply with lm to decode\n",
    "    p_emg = train_utils.letter_to_emg_sim(gt_sentence[i], lm_lstm.chars)\n",
    "    next_char = EMG_LM_decoder(lm_lstm.chars, p_emg, p_lm)\n",
    "    decoded_sentence = decoded_sentence + next_char\n",
    "\n",
    "    _, h, p_lm = lm_lstm.predict(next_char, h)\n",
    "\n",
    "print('> ground truth sentence')\n",
    "print(gt_sentence,'\\n')\n",
    "\n",
    "print('> argmax of simulated EMG decoding')\n",
    "print(emg_sentence)\n",
    "print(Levenshtein.ratio(gt_sentence, emg_sentence),'\\n')\n",
    "\n",
    "print('> generated by argmax from EMG probability multiplied by RNN-LM')\n",
    "print(decoded_sentence, '\\n')\n",
    "\n",
    "print(Levenshtein.ratio(gt_sentence, emg_sentence), ' simulated EMG accuracy')\n",
    "print(Levenshtein.ratio(gt_sentence, decoded_sentence),' EMG + LM accuracy')\n",
    "\n",
    "print('\\n> notably there is not much improvement without beam search/probability smoothing')"
   ]
  },
  {
   "cell_type": "markdown",
   "metadata": {
    "id": "7Lq2f3alxdu0"
   },
   "source": [
    "# Comparing BEAM search widths"
   ]
  },
  {
   "cell_type": "code",
   "execution_count": 8,
   "metadata": {
    "executionInfo": {
     "elapsed": 1238,
     "status": "ok",
     "timestamp": 1686977289213,
     "user": {
      "displayName": "DEREK XIAO",
      "userId": "13800100255470786397"
     },
     "user_tz": 420
    },
    "id": "aokWr_EMxOJF"
   },
   "outputs": [],
   "source": [
    "with open('datasets/text8_test') as f:\n",
    "    text_test = f.read()"
   ]
  },
  {
   "cell_type": "markdown",
   "metadata": {
    "id": "SWtJhwxtIaV5"
   },
   "source": [
    "## different decoding strategies with lstm lm"
   ]
  },
  {
   "cell_type": "code",
   "execution_count": 9,
   "metadata": {
    "colab": {
     "base_uri": "https://localhost:8080/"
    },
    "executionInfo": {
     "elapsed": 8738,
     "status": "ok",
     "timestamp": 1686978267029,
     "user": {
      "displayName": "DEREK XIAO",
      "userId": "13800100255470786397"
     },
     "user_tz": 420
    },
    "id": "3E5PvuTr-6eX",
    "outputId": "495d5603-f940-4f83-81fb-7bf574d3992f"
   },
   "outputs": [
    {
     "name": "stdout",
     "output_type": "stream",
     "text": [
      "beta:  2\n",
      "relejasncf other treanmrungilvmts filph ar the fike aege fre isiaclo centeopas arees xig hbs edpanejin or lazeo cenlanderigna s ka challenkje es the olde freiliriknary togethkerf it mediconeoulodign the medican revolution of jnf joje one zero reinfogced the hmiortanse on the sott shift casnat jopketame influx of inmigrangs dogong the gest of the halbssri bu centuri bown of the truegu of kealek tory in population occurred on the isge mak serk tt cautigu jm one nine five sevoveut city har anoun tm\n",
      "test levenshtein score:  0.6659999999999999\n",
      "def hillion onharitanta hungaovastu sericatek the fctioated polilation for the memropkpiten wresnwas armonc one sight toiillg recent fostory it ijs hone corneidht the firy wea tost or the kiyopje gamee but it was also staljed anth the massacre of seussner by secendingtoils whgitr the towtelloco massache whotver soonf edenh carroce on part cybthf vody das ctanbura aprpd col of one nine seven zero thet the founhey histsd and dnoct has lta brand conqle on merito city zneshavlo ashrex an arco sevej \n",
      "test levenshtein score:  0.6799999999999999\n",
      "test levenshtein score:  0.6799999999999999\n",
      "beta:  8\n",
      "arleybence other idean formponges built at the time west the laoscip centepows arnaz and the expansion of laveo remix beforhama is smalls its factja post revolutionary government of medicinekillsing the medical revolution of one nine one zero reinforced the importance of the city which was an important influx of ikminganus during the east of the two zero th century list of the frostr of medieovainh in oiljoation offiches in the land two zero th century in one nine five zero the city has ahounvht\n",
      "test levenshtein score:  0.8160000000000001\n",
      "ded killion inianitants by two zero zero zero the earlmared population tos the metropolitan area was wriute one eight million nearjy history oh one nine six eight the city was just in the opgolic names but ot was also atxines with the hadqscre of qtirenta th gerrval thomps auging the fishfikico massacre another eopernegent carried on part vi the city was the firscworld fup of one nine seven zero just thr country mostef and which has lts gears consid on medicincory s schedul asherx at zero sever \n",
      "test levenshtein score:  0.806\n",
      "test levenshtein score:  0.806\n",
      "beta:  32\n",
      "dependance ofher urban viftpintes viult at the time were tge palacio de yellas aftez and the expansion of laxem re panderirma acid shakps otz bc the poet revolutionary government ib mexico followind the mexican revolution mc one nine one zero reinforced the importance of the city which was an importand influx of injurrentc during the rest of the usl zero th century body is the growth of mediconsity in population officees in the late two zero th cenvury in one nine nine zero the wory isv about tk\n",
      "test levenshtein score:  0.852\n",
      "fer million inhabitants gy two zero zero zero the canonarce population bot the nebelpolitan area var around one eight million resent history in one nine six eight the city was goqu of the olympic games the lc was also creoked with the massacre of sfirenbachy federal trjops during the histbillco massacre another sport event carried in part by the city waz the firs world ckp of one nine seven zero that the country useded and which has lts grand finals on medicinalty andcrabio azhecs at zero seyarn\n",
      "test levenshtein score:  0.858\n",
      "test levenshtein score:  0.858\n",
      "{2: 0.6799999999999999, 8: 0.806, 32: 0.858}\n"
     ]
    }
   ],
   "source": [
    "from numpy import array\n",
    "\n",
    "def EMG_LM_decoder(char_tuple, p_emg, p_lm = None, delta_emg = 0, delta_lm = 0):\n",
    "    p_emg = p_emg + delta_emg\n",
    "    p_lm = p_lm + delta_lm\n",
    "    p_combined = p_lm*p_emg\n",
    "    p_combined = p_combined/p_combined.sum()\n",
    "    letter_index = np.argmax(p_combined)\n",
    "    return char_tuple[letter_index], p_combined\n",
    "\n",
    "file_name = 'saved_models/charRNN_scratch.pkl'\n",
    "lm_lstm = torch.load(file_name)\n",
    "\n",
    "results = {}\n",
    "from time import time\n",
    "\n",
    "delta_emg = 0.01\n",
    "delta_lm = .08\n",
    "\n",
    "# argmax from simulated EMG decoder output\n",
    "test_batch_size = 500\n",
    "num_batches = 2\n",
    "batch = 0\n",
    "times = []\n",
    "\n",
    "ratios = []\n",
    "avg_ratios = [0]\n",
    "\n",
    "accuracies = []\n",
    "avg_accuracies = [0]\n",
    "for beta in [2,8,32]:\n",
    "    print('beta: ', beta)\n",
    "    for batch in range(num_batches):\n",
    "\n",
    "        start = time()\n",
    "\n",
    "        gt_sentence = text_test[(batch+1)*test_batch_size:(batch+2)*test_batch_size]\n",
    "\n",
    "        # vvvvvvvvvvvvv MODIFY BELOW vvvvvvvvvvvv\n",
    "        decoded_sentences = [['',None,1]]\n",
    "\n",
    "        p_emg = train_utils.letter_to_emg_sim(gt_sentence[0], lm_lstm.chars)\n",
    "        # loop through paths so far, and extend each path with the most probable delta seqs\n",
    "        paths_at_tier = []\n",
    "        for sentence_candidate in decoded_sentences:\n",
    "            path, h, prob = sentence_candidate\n",
    "            # find top delta likely characters\n",
    "            top_beta_indices = np.argpartition(p_emg, -27)[-27:]\n",
    "            for top_beta_index in top_beta_indices:\n",
    "                _, h, p_lm = lm_lstm.predict(lm_lstm.chars[top_beta_index])\n",
    "                paths_at_tier.append([path+lm_lstm.chars[top_beta_index], None, prob*p_emg[top_beta_index]])\n",
    "\n",
    "        paths_ordered = sorted(paths_at_tier, key=lambda element: element[2])\n",
    "        decoded_sentences = paths_ordered[-beta:]\n",
    "\n",
    "        renorm = False\n",
    "        for i in range(1, len(gt_sentence)):\n",
    "\n",
    "            paths_at_tier = []\n",
    "            for sentence_candidate in decoded_sentences:\n",
    "                path, h, prob = sentence_candidate\n",
    "                if prob < 1e-2:\n",
    "                    renorm = True\n",
    "                # find top delta likely characters\n",
    "                p_emg = train_utils.letter_to_emg_sim(gt_sentence[i], lm_lstm.chars)\n",
    "                \n",
    "                _, h, p_lm = lm_lstm.predict(path[-1], h)\n",
    "                p_lm = p_lm[0]\n",
    "\n",
    "                _, p_beam = EMG_LM_decoder(lm_lstm.chars, p_emg, p_lm, delta_lm = delta_lm, delta_emg = delta_emg)\n",
    "\n",
    "                top_beta_indices = np.argpartition(p_beam, -27)[-27:]\n",
    "                for top_beta_index in top_beta_indices:\n",
    "                    paths_at_tier.append([path+lm_lstm.chars[top_beta_index], h, prob*p_beam[top_beta_index]])\n",
    "            paths_ordered = sorted(paths_at_tier, key=lambda element: element[2])\n",
    "            decoded_sentences = paths_ordered[-beta:]\n",
    "            \n",
    "            # renormalizing the beam probabilities to prevent underflow\n",
    "            if renorm:\n",
    "                for j, sentence_candidate in enumerate(decoded_sentences):\n",
    "                    _, _, p = sentence_candidate\n",
    "                    decoded_sentences[j][2] = p/1e-4\n",
    "                renorm = False\n",
    "        decoded_sentence = decoded_sentences[0][0]\n",
    "        print(decoded_sentence)\n",
    "        \n",
    "        # ^^^^^^^^^^ MODIFY ABOVE ^^^^^^^^^^^^^^^\n",
    "        accuracy = np.sum(np.array(list(gt_sentence)) == np.array(list(decoded_sentence)))/len(gt_sentence)\n",
    "        accuracies.append(accuracy)\n",
    "        avg_accuracies.append( (avg_accuracies[-1]*batch + accuracy)/(batch+1))\n",
    "\n",
    "        ratio = Levenshtein.ratio(gt_sentence, decoded_sentence)\n",
    "        ratios.append(ratio)\n",
    "        avg_ratios.append( (avg_ratios[-1]*batch + ratio)/(batch+1))\n",
    "\n",
    "        end = time()\n",
    "        times.append(end-start)\n",
    "        print('test levenshtein score: ', avg_ratios[-1])\n",
    "\n",
    "    results[beta] = avg_ratios[-1]\n",
    "    print('test levenshtein score: ', avg_ratios[-1])\n",
    "    import pickle\n",
    "    from datetime import datetime\n",
    "    save_path = ''\n",
    "    time_result = \"{:%Y_%m_%d_%H_%M_}\".format(datetime.now())\n",
    "    # with open(save_path+'results_beam_ '+time_result+'.pkl', 'wb') as f:\n",
    "    #     pickle.dump(results, f)\n",
    "print(results)\n"
   ]
  }
 ],
 "metadata": {
  "colab": {
   "collapsed_sections": [
    "WpmgyRCdDE8H",
    "7377Wkl3w4hQ"
   ],
   "provenance": []
  },
  "kernelspec": {
   "display_name": "emg_test_1",
   "language": "python",
   "name": "emg_test_1"
  },
  "language_info": {
   "codemirror_mode": {
    "name": "ipython",
    "version": 3
   },
   "file_extension": ".py",
   "mimetype": "text/x-python",
   "name": "python",
   "nbconvert_exporter": "python",
   "pygments_lexer": "ipython3",
   "version": "3.9.16"
  }
 },
 "nbformat": 4,
 "nbformat_minor": 4
}
